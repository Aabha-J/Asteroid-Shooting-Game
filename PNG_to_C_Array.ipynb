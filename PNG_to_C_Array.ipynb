{
  "nbformat": 4,
  "nbformat_minor": 0,
  "metadata": {
    "colab": {
      "provenance": [],
      "include_colab_link": true
    },
    "kernelspec": {
      "name": "python3",
      "display_name": "Python 3"
    },
    "language_info": {
      "name": "python"
    }
  },
  "cells": [
    {
      "cell_type": "markdown",
      "metadata": {
        "id": "view-in-github",
        "colab_type": "text"
      },
      "source": [
        "<a href=\"https://colab.research.google.com/github/Aabha-J/Asteroid-Shooting-Game/blob/main/PNG_to_C_Array.ipynb\" target=\"_parent\"><img src=\"https://colab.research.google.com/assets/colab-badge.svg\" alt=\"Open In Colab\"/></a>"
      ]
    },
    {
      "cell_type": "code",
      "source": [
        "#Run this first\n",
        "from PIL import Image\n",
        "import numpy as np\n",
        "import matplotlib.pyplot as plt\n",
        "from google.colab import files\n",
        "\n",
        "\n",
        "def numpy_array_to_c(image_array, height, width):\n",
        "    c_array = f\"const unsigned short int image[] = {{\\n\"\n",
        "    elements_per_line = 8\n",
        "    elements_processed = 0\n",
        "    array_size = 0\n",
        "\n",
        "    for row in image_array:\n",
        "        for pixel in row:\n",
        "            red = pixel[0] >> 3  # Scale red component to 5 bits\n",
        "            green = pixel[1] >> 2  # Scale green component to 6 bits\n",
        "            blue = pixel[2] >> 3  # Scale blue component to 5 bits\n",
        "            pixel_value = (red << 11) | (green << 5) | blue\n",
        "            c_array += f\"0x{pixel_value:04X}, \"\n",
        "            elements_processed += 1\n",
        "            array_size+=1\n",
        "\n",
        "            if elements_processed >= elements_per_line:\n",
        "                c_array += \"\\n\"\n",
        "                elements_processed = 0\n",
        "\n",
        "    c_array += \"\\n};\\n\\n\"\n",
        "    c_array += f\"const int HEIGHT = {height};\\n\"\n",
        "    c_array += f\"const int WIDTH = {width};\\n\"\n",
        "    c_array += f\"array_size = {array_size};\"\n",
        "    return c_array\n",
        "\n",
        "\n",
        "def plot_image(image_array):\n",
        "  plt.imshow(image_array)\n",
        "  plt.axis('off')\n",
        "  plt.show()\n",
        "\n",
        "def upload_and_convert(rotation=None, resize=None):\n",
        "  uploaded = files.upload()\n",
        "  file_name = list(uploaded.keys())[0]\n",
        "  image = Image.open(file_name)\n",
        "  if resize is not None:\n",
        "      image = image.resize(resize)\n",
        "  if rotation is not None:\n",
        "      image = image.rotate(rotation, expand=True)\n",
        "  image = image.convert(\"RGB\")\n",
        "  image_array = np.array(image)\n",
        "  height, width, _ = image_array.shape\n",
        "  c_array = numpy_array_to_c(image_array, height, width)\n",
        "  return image_array, c_array"
      ],
      "metadata": {
        "id": "Ajl6xvqHgkS6"
      },
      "execution_count": null,
      "outputs": []
    },
    {
      "cell_type": "code",
      "execution_count": null,
      "metadata": {
        "id": "X9g0s57_efrm"
      },
      "outputs": [],
      "source": [
        "#No rotation, no resizing\n",
        "# Upload image\n",
        "image_array, c_array = upload_and_convert()\n",
        "\n",
        "# Plot the uploaded image using Matplotlib\n",
        "plot_image(image_array)\n",
        "\n",
        "# Print the generated C array\n",
        "print(c_array)\n"
      ]
    },
    {
      "cell_type": "code",
      "source": [
        "#If u want to resize, use this\n",
        "\n",
        " # Upload image and convert to C array\n",
        "image_array, c_array = upload_and_convert(resize=(20, 20))  # Resize to (width, height)\n",
        "\n",
        "# Plot the uploaded image using Matplotlib\n",
        "plot_image(image_array)\n",
        "\n",
        "# Print the generated C array\n",
        "print(c_array)"
      ],
      "metadata": {
        "id": "IwM6i4zbZtzy"
      },
      "execution_count": null,
      "outputs": []
    },
    {
      "cell_type": "code",
      "source": [
        "#To rotate use this\n",
        "#Don't use this for rocket, use the other one because i resized the og rocket\n",
        "# Upload image and convert to C array\n",
        "image_array, c_array = upload_and_convert(rotation=45)  # Specify rotation angle here\n",
        "\n",
        "# Plot the uploaded image using Matplotlib\n",
        "plot_image(image_array)\n",
        "\n",
        "# Print the generated C array\n",
        "print(c_array)\n"
      ],
      "metadata": {
        "id": "KGYEPquYgO5p"
      },
      "execution_count": null,
      "outputs": []
    },
    {
      "cell_type": "code",
      "source": [
        "# rotate it , and resize it\n",
        "\n",
        "image_array, c_array = upload_and_convert(rotation=135, resize=(76, 50))\n",
        "# Resize to (width, height), roate = angle degrees\n",
        "\n",
        "# Plot the uploaded image using Matplotlib\n",
        "plot_image(image_array)\n",
        "\n",
        "# Print the generated C array\n",
        "print(c_array)\n"
      ],
      "metadata": {
        "id": "Xu0tT07oie8C"
      },
      "execution_count": null,
      "outputs": []
    }
  ]
}